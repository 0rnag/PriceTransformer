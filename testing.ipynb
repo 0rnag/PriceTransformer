{
 "cells": [
  {
   "cell_type": "code",
   "execution_count": 1,
   "metadata": {},
   "outputs": [],
   "source": [
    "import torch\n",
    "from torch.utils.data import Dataset, DataLoader\n",
    "import torch.nn as nn\n",
    "import torch.nn.functional as F\n",
    "import pandas"
   ]
  },
  {
   "cell_type": "code",
   "execution_count": 2,
   "metadata": {},
   "outputs": [],
   "source": [
    "from alpaca.data.historical import CryptoHistoricalDataClient\n",
    "from alpaca.data.requests import CryptoBarsRequest\n",
    "from alpaca.data.timeframe import TimeFrame, TimeFrameUnit"
   ]
  },
  {
   "cell_type": "code",
   "execution_count": 3,
   "metadata": {},
   "outputs": [],
   "source": [
    "client = CryptoHistoricalDataClient()"
   ]
  },
  {
   "cell_type": "code",
   "execution_count": 4,
   "metadata": {},
   "outputs": [
    {
     "name": "stdout",
     "output_type": "stream",
     "text": [
      "35108\n",
      "torch.Size([35108, 7])\n"
     ]
    }
   ],
   "source": [
    "request_params = CryptoBarsRequest(\n",
    "    symbol_or_symbols=[\"BTC/USD\"],\n",
    "    timeframe=TimeFrame(amount=15, unit=TimeFrameUnit('Min')),\n",
    "    #timeframe=TimeFrame.Minute,\n",
    "    start=\"2023-05-18\",\n",
    "    end=\"2024-05-18\"\n",
    ")\n",
    "\n",
    "btc_bars = client.get_crypto_bars(request_params=request_params)\n",
    "\n",
    "#print(btc_bars[\"BTC/USD\"])\n",
    "\n",
    "dates = []\n",
    "stats = []\n",
    "for item in btc_bars[\"BTC/USD\"]:\n",
    "    dates.append(dict(item)['timestamp'])\n",
    "    \n",
    "    temp_stats = []\n",
    "    for key, value in dict(item).items():\n",
    "        if key not in ['timestamp', 'symbol']:\n",
    "            temp_stats.append(value) \n",
    "    stats.append(temp_stats)\n",
    "\n",
    "print(len(stats))\n",
    "    \n",
    "data = torch.tensor(stats)\n",
    "print(data.shape)\n"
   ]
  },
  {
   "cell_type": "code",
   "execution_count": 28,
   "metadata": {},
   "outputs": [
    {
     "ename": "TypeError",
     "evalue": "float() argument must be a string or a real number, not 'list'",
     "output_type": "error",
     "traceback": [
      "\u001b[0;31m---------------------------------------------------------------------------\u001b[0m",
      "\u001b[0;31mTypeError\u001b[0m                                 Traceback (most recent call last)",
      "Cell \u001b[0;32mIn[28], line 5\u001b[0m\n\u001b[1;32m      1\u001b[0m f \u001b[38;5;241m=\u001b[39m \u001b[38;5;28mopen\u001b[39m(\u001b[38;5;124m'\u001b[39m\u001b[38;5;124mdata/btc_minute_23-05-18_24-05-18.csv\u001b[39m\u001b[38;5;124m'\u001b[39m, \u001b[38;5;124m'\u001b[39m\u001b[38;5;124ma\u001b[39m\u001b[38;5;124m'\u001b[39m)\n\u001b[1;32m      3\u001b[0m \u001b[38;5;28;01mfor\u001b[39;00m item \u001b[38;5;129;01min\u001b[39;00m data:\n\u001b[0;32m----> 5\u001b[0m     string \u001b[38;5;241m=\u001b[39m \u001b[38;5;124m'\u001b[39m\u001b[38;5;124m, \u001b[39m\u001b[38;5;124m'\u001b[39m\u001b[38;5;241m.\u001b[39mjoin(\u001b[38;5;28mstr\u001b[39m(\u001b[38;5;28;43mfloat\u001b[39;49m\u001b[43m(\u001b[49m\u001b[38;5;28;43mlist\u001b[39;49m\u001b[43m(\u001b[49m\u001b[43mitem\u001b[49m\u001b[43m)\u001b[49m\u001b[43m)\u001b[49m)) \u001b[38;5;241m+\u001b[39m \u001b[38;5;124m'\u001b[39m\u001b[38;5;130;01m\\n\u001b[39;00m\u001b[38;5;124m'\u001b[39m\n\u001b[1;32m      7\u001b[0m     f\u001b[38;5;241m.\u001b[39mwrite(string)\n",
      "\u001b[0;31mTypeError\u001b[0m: float() argument must be a string or a real number, not 'list'"
     ]
    }
   ],
   "source": [
    "f = open('data/btc_minute_23-05-18_24-05-18.csv', 'a')\n",
    "\n",
    "for item in data:\n",
    "    \n",
    "    string = ', '.join(str(list(item))) + '\\n'\n",
    "\n",
    "    f.write(string)"
   ]
  },
  {
   "cell_type": "code",
   "execution_count": 16,
   "metadata": {},
   "outputs": [],
   "source": [
    "time_period = 60\n",
    "feature_space = 7\n",
    "output_size = 3 #[down, no change, up]\n",
    "batch_size = 16\n",
    "\n",
    "device = 'cuda' if torch.cuda.is_available() else 'mps'"
   ]
  },
  {
   "cell_type": "code",
   "execution_count": 17,
   "metadata": {},
   "outputs": [],
   "source": [
    "class BTCDataset(Dataset):\n",
    "\n",
    "    def __init__(self, data):\n",
    "        self.data = data\n",
    "\n",
    "    def __getitem__(self, idx):\n",
    "        random_index = torch.randint(0, len(self.data) - time_period, size=(1,))\n",
    "        return self.data[random_index:random_index+time_period+1]\n",
    "    \n",
    "    def __len__(self):\n",
    "        return len(self.data)"
   ]
  },
  {
   "cell_type": "code",
   "execution_count": 18,
   "metadata": {},
   "outputs": [],
   "source": [
    "dataset = BTCDataset(data)\n",
    "dataloader = DataLoader(dataset, batch_size=16, shuffle=True)\n"
   ]
  },
  {
   "cell_type": "code",
   "execution_count": 142,
   "metadata": {},
   "outputs": [
    {
     "name": "stdout",
     "output_type": "stream",
     "text": [
      "torch.Size([16, 61, 7])\n"
     ]
    }
   ],
   "source": [
    "for item in dataloader:\n",
    "    print(item.shape)\n",
    "    break"
   ]
  },
  {
   "cell_type": "code",
   "execution_count": 19,
   "metadata": {},
   "outputs": [],
   "source": [
    "class FeedForward(nn.Module):\n",
    "    \n",
    "    def __init__(self, dropout, embedding_dim):\n",
    "        super().__init__()\n",
    "        self.net = nn.Sequential(\n",
    "            nn.Linear(embedding_dim, 4 * embedding_dim),\n",
    "            nn.ReLU(),\n",
    "            nn.Linear(4 * embedding_dim, embedding_dim),\n",
    "            nn.Dropout(dropout)\n",
    "        )\n",
    "\n",
    "    def forward(self, x):\n",
    "        return self.net(x)\n",
    "    \n",
    "class Head(nn.Module):\n",
    "    \n",
    "    def __init__(self, dropout, embedding_dim, head_size):\n",
    "        super().__init__()\n",
    "        self.key = nn.Linear(embedding_dim, head_size, bias=False)\n",
    "        self.query = nn.Linear(embedding_dim, head_size, bias=False)\n",
    "        self.value = nn.Linear(embedding_dim, head_size, bias=False)\n",
    "        #self.register_buffer('tril', torch.tril(torch.ones(time_period, time_period)))\n",
    "\n",
    "        self.dropout = nn.Dropout(dropout)\n",
    "\n",
    "    def forward(self, x):\n",
    "        B, T, C = x.shape\n",
    "        k = self.key(x) #(B, T, head_size)\n",
    "        q = self.query(x) #(B, T, head_size)\n",
    "        att = q @ k.transpose(-2, -1) * (k.size(-1) ** -0.5) # Want (B, T, T) where there is a value for how each token relates to each other token\n",
    "        # want k to be (B, C, T) k.transpose(-2, -1) swaps the last 2 dimensions, giving (B, C, T)\n",
    "        #att = att.masked_fill(self.tril[:T, :T] == 0, float('-inf'))\n",
    "        att = F.softmax(att, dim=-1) \n",
    "        att = self.dropout(att)\n",
    "        v = self.value(x)\n",
    "        out = att @ v\n",
    "        return out\n",
    "\n",
    "class MultiHeadAttention(nn.Module):\n",
    "    \n",
    "    def __init__(self, dropout, embedding_dim, head_size, num_heads):\n",
    "        super().__init__()\n",
    "        self.heads = nn.ModuleList([Head(dropout, embedding_dim, head_size) for _ in range(num_heads)])\n",
    "        self.proj = nn.Linear(embedding_dim, embedding_dim)\n",
    "        self.dropout = nn.Dropout(dropout)\n",
    "    \n",
    "    def forward(self, x):\n",
    "        out = torch.cat([h(x) for h in self.heads], dim=-1)\n",
    "        out = self.dropout(self.proj(out))\n",
    "        return out\n",
    "\n",
    "class Block(nn.Module):\n",
    "\n",
    "    def __init__(self, dropout, embedding_dim, head_size, num_heads):\n",
    "        super().__init__()\n",
    "        self.self_att = MultiHeadAttention(dropout, embedding_dim, head_size, num_heads)\n",
    "        self.ffwd = FeedForward(dropout, embedding_dim)\n",
    "        self.ln1 = nn.LayerNorm(embedding_dim)\n",
    "        self.ln2 = nn.LayerNorm(embedding_dim)\n",
    "\n",
    "    def forward(self, x):\n",
    "        x = x + self.self_att(self.ln1(x))\n",
    "        x = x + self.ffwd(self.ln2(x))\n",
    "        return x\n",
    "    \n",
    "class Transformer(nn.Module):\n",
    "\n",
    "    def __init__(self, dropout, embedding_dim, num_heads, head_size, num_layers):\n",
    "        super().__init__()\n",
    "        self.data_embedding = nn.Linear(feature_space, embedding_dim)\n",
    "        self.position_embedding = nn.Embedding(time_period, embedding_dim)\n",
    "        self.blocks = nn.Sequential(*[Block(dropout, embedding_dim, head_size, num_heads) for _ in range(num_layers)])\n",
    "        self.ln_f = nn.LayerNorm(embedding_dim)\n",
    "        self.lm_head = nn.Linear(embedding_dim, output_size)\n",
    "    \n",
    "    def forward(self, x):\n",
    "        #B, T = x.shape\n",
    "\n",
    "        data_embeddings = self.data_embedding(x)\n",
    "        positional_embeddings = self.position_embedding(torch.arange(time_period, device=device))\n",
    "        \n",
    "        x = data_embeddings + positional_embeddings\n",
    "        x = self.blocks(x)\n",
    "        x = self.ln_f(x)\n",
    "        logits = self.lm_head(x)\n",
    "\n",
    "        return logits\n"
   ]
  },
  {
   "cell_type": "code",
   "execution_count": 30,
   "metadata": {},
   "outputs": [],
   "source": [
    "model = Transformer(dropout=0.2, embedding_dim=32, num_heads=4, head_size=8, num_layers=8).to(device)\n",
    "loss_function = nn.CrossEntropyLoss(reduction='mean')\n",
    "optimizer = torch.optim.AdamW(model.parameters(), 1e-4)\n",
    "\n",
    "num_epochs = 3"
   ]
  },
  {
   "cell_type": "code",
   "execution_count": 21,
   "metadata": {},
   "outputs": [],
   "source": [
    "threshold = 0.0005\n",
    "def get_targets(chunk):\n",
    "    # returns 1 hot encoding of whether the stock goes up or down\n",
    "    target = chunk[:, time_period, :]\n",
    "    chunk_real = chunk[:, :time_period, :]\n",
    "    \n",
    "    real_targets = []\n",
    "    for i in range(len(chunk_real)):\n",
    "        real_price = chunk_real[i, -1, 0]\n",
    "        target_price = target[i, 0]\n",
    "        if target_price > real_price*(1 + threshold):\n",
    "            # move up\n",
    "            real_targets.append([0, 0, 1])\n",
    "        elif target_price < real_price*(1 - threshold):\n",
    "            # move down\n",
    "            real_targets.append([1, 0, 0])\n",
    "        else:\n",
    "            # no change\n",
    "            real_targets.append([0, 1, 0])\n",
    "\n",
    "    return torch.tensor(real_targets, device=device, dtype=torch.float32)\n",
    "\n",
    "def normalize_features(real_chunk):\n",
    "    for j in range(time_period):\n",
    "        for i in range(feature_space):\n",
    "            feature_mean = sum(real_chunk[:, j, i]) / batch_size\n",
    "            feature_stdev = torch.std(real_chunk[:, j, i])\n",
    "            real_chunk[:, j, i] -= feature_mean\n",
    "            real_chunk[:, j, i] /= feature_stdev\n",
    "\n",
    "    return real_chunk\n",
    "            "
   ]
  },
  {
   "cell_type": "code",
   "execution_count": 31,
   "metadata": {},
   "outputs": [
    {
     "name": "stdout",
     "output_type": "stream",
     "text": [
      "103203\n",
      "0 4.1445393562316895\n",
      "250 0.9487204551696777\n",
      "500 0.7508211135864258\n",
      "750 0.7359187006950378\n",
      "1000 0.6978713870048523\n",
      "1250 0.6806390881538391\n",
      "1500 0.6510839462280273\n",
      "1750 0.6311411261558533\n",
      "2000 0.6393172144889832\n",
      "2250 0.65591961145401\n",
      "2500 0.6939006447792053\n",
      "2750 0.6041336059570312\n",
      "3000 0.624991238117218\n",
      "3250 0.6172786355018616\n",
      "3500 0.6348392367362976\n",
      "3750 0.593292236328125\n",
      "4000 0.6152873039245605\n",
      "4250 0.6227607131004333\n",
      "4500 0.647491455078125\n",
      "4750 0.6090921759605408\n",
      "5000 0.6278034448623657\n",
      "5250 0.6026400923728943\n",
      "5500 0.6244016289710999\n",
      "5750 0.7229809761047363\n",
      "6000 0.6438679099082947\n",
      "6250 0.6504530310630798\n",
      "6500 0.649500846862793\n",
      "6585\n"
     ]
    }
   ],
   "source": [
    "print(sum(p.numel() for p in model.parameters()))\n",
    "\n",
    "losses = []\n",
    "iteration = 0\n",
    "for epoch in range(num_epochs):\n",
    "    \n",
    "    for chunk in dataloader:        \n",
    "        targets = get_targets(chunk)\n",
    "        chunk_real = chunk[:, :time_period, :].to(device)\n",
    "        normalized_chunk = normalize_features(chunk_real)\n",
    "        #print(normalized_chunk[:, 0, 0])\n",
    "        logits = model(normalized_chunk)\n",
    "        \n",
    "        #logit_probs = F.softmax(logits[:, -1, :], dim=-1)\n",
    "        #logits = F.softmax(logits[:, -1, :], dim=-1)\n",
    "       # loss = loss_function(logit_probs, targets)\n",
    "        loss = loss_function(logits, targets)\n",
    "        optimizer.zero_grad(set_to_none=True)\n",
    "        loss.backward()\n",
    "        optimizer.step()\n",
    "        losses.append(loss.item())\n",
    "\n",
    "        if iteration % 250 == 0:\n",
    "            print(iteration, loss.item())\n",
    "        \n",
    "        iteration += 1\n",
    "\n",
    "        \n",
    "\n",
    "print(iteration)\n",
    "\n",
    "        "
   ]
  },
  {
   "cell_type": "code",
   "execution_count": 32,
   "metadata": {},
   "outputs": [
    {
     "data": {
      "image/png": "[encoded data removed]",
      "text/plain": [
       "<Figure size 640x480 with 1 Axes>"
      ]
     },
     "metadata": {},
     "output_type": "display_data"
    }
   ],
   "source": [
    "import matplotlib.pyplot as plt\n",
    "plt.plot(losses[:len(losses)-1])\n",
    "plt.show()"
   ]
  },
  {
   "cell_type": "code",
   "execution_count": 171,
   "metadata": {},
   "outputs": [
    {
     "name": "stdout",
     "output_type": "stream",
     "text": [
      "tensor([[0.7503, 0.2497],\n",
      "        [0.2497, 0.7503],\n",
      "        [0.4502, 0.5498],\n",
      "        [0.1824, 0.8176]])\n"
     ]
    },
    {
     "data": {
      "text/plain": [
       "tensor(0.5032)"
      ]
     },
     "execution_count": 171,
     "metadata": {},
     "output_type": "execute_result"
    }
   ],
   "source": [
    "loss_fn = nn.BCEWithLogitsLoss()\n",
    "\n",
    "a = torch.tensor([[1,0], [0,1], [1,0], [0,1]], dtype=torch.float32)\n",
    "b = torch.tensor([[1.0, -0.1], [0.2, 1.3], [0.4, .6], [-0.2, 1.3]], dtype=torch.float32)\n",
    "print(F.softmax(b, dim=-1))\n",
    "loss_fn(a,b)"
   ]
  },
  {
   "cell_type": "code",
   "execution_count": null,
   "metadata": {},
   "outputs": [],
   "source": [
    "# next steps: normalize/scale the features,,,,???? center around 0 and 1 STDEV, should be a cool way to do this in pytorch\n",
    "# rewrite the code to be more clean\n",
    "\n",
    "#back test this on some new data\n"
   ]
  }
 ],
 "metadata": {
  "kernelspec": {
   "display_name": "venv",
   "language": "python",
   "name": "python3"
  },
  "language_info": {
   "codemirror_mode": {
    "name": "ipython",
    "version": 3
   },
   "file_extension": ".py",
   "mimetype": "text/x-python",
   "name": "python",
   "nbconvert_exporter": "python",
   "pygments_lexer": "ipython3",
   "version": "3.12.2"
  }
 },
 "nbformat": 4,
 "nbformat_minor": 2
}
